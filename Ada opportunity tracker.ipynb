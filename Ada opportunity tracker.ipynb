{
 "cells": [
  {
   "cell_type": "markdown",
   "metadata": {},
   "source": [
    "# Procedural Programming\n",
    "\n",
    "We would like this Ada Opportunity tracker to have all the good features of procedural programming including\n",
    "\n",
    "- readbility\n",
    "- maintainability\n",
    "- re-useability"
   ]
  },
  {
   "cell_type": "code",
   "execution_count": 2,
   "metadata": {},
   "outputs": [
    {
     "name": "stdout",
     "output_type": "stream",
     "text": [
      "What is the student's name?fred\n",
      "What are the marks in CS?90\n",
      "How many behaviour points? 23\n",
      " What is the attendance of the student (out of 100)100\n",
      " What is the punctuality of the student? (out of 100)100\n"
     ]
    },
    {
     "ename": "NameError",
     "evalue": "name 'behaviour' is not defined",
     "output_type": "error",
     "traceback": [
      "\u001b[0;31m---------------------------------------------------------------------------\u001b[0m",
      "\u001b[0;31mNameError\u001b[0m                                 Traceback (most recent call last)",
      "\u001b[0;32m<ipython-input-2-0f96d5a94b94>\u001b[0m in \u001b[0;36m<module>\u001b[0;34m\u001b[0m\n\u001b[1;32m      4\u001b[0m \u001b[0mattendance\u001b[0m \u001b[0;34m=\u001b[0m \u001b[0mint\u001b[0m\u001b[0;34m(\u001b[0m\u001b[0minput\u001b[0m \u001b[0;34m(\u001b[0m\u001b[0;34m\" What is the attendance of the student (out of 100)\"\u001b[0m\u001b[0;34m)\u001b[0m\u001b[0;34m)\u001b[0m\u001b[0;34m\u001b[0m\u001b[0;34m\u001b[0m\u001b[0m\n\u001b[1;32m      5\u001b[0m \u001b[0mpunctuality\u001b[0m \u001b[0;34m=\u001b[0m \u001b[0mint\u001b[0m\u001b[0;34m(\u001b[0m\u001b[0minput\u001b[0m \u001b[0;34m(\u001b[0m\u001b[0;34m\" What is the punctuality of the student? (out of 100)\"\u001b[0m\u001b[0;34m)\u001b[0m\u001b[0;34m)\u001b[0m\u001b[0;34m\u001b[0m\u001b[0;34m\u001b[0m\u001b[0m\n\u001b[0;32m----> 6\u001b[0;31m \u001b[0;32mif\u001b[0m \u001b[0mcs\u001b[0m \u001b[0;34m>\u001b[0m \u001b[0;36m50\u001b[0m \u001b[0;32mand\u001b[0m  \u001b[0mpunctuality\u001b[0m \u001b[0;34m==\u001b[0m \u001b[0;36m100\u001b[0m \u001b[0;32mand\u001b[0m \u001b[0mattendance\u001b[0m \u001b[0;34m>\u001b[0m \u001b[0;36m95\u001b[0m \u001b[0;32mand\u001b[0m \u001b[0mbehaviour\u001b[0m \u001b[0;34m>\u001b[0m \u001b[0;36m10\u001b[0m\u001b[0;34m:\u001b[0m\u001b[0;34m\u001b[0m\u001b[0;34m\u001b[0m\u001b[0m\n\u001b[0m\u001b[1;32m      7\u001b[0m     \u001b[0mprint\u001b[0m\u001b[0;34m(\u001b[0m\u001b[0;34m\"The student is allowed to participate in Bank of America project\"\u001b[0m\u001b[0;34m)\u001b[0m\u001b[0;34m\u001b[0m\u001b[0;34m\u001b[0m\u001b[0m\n\u001b[1;32m      8\u001b[0m \u001b[0;32melse\u001b[0m\u001b[0;34m:\u001b[0m\u001b[0;34m\u001b[0m\u001b[0;34m\u001b[0m\u001b[0m\n",
      "\u001b[0;31mNameError\u001b[0m: name 'behaviour' is not defined"
     ]
    }
   ],
   "source": [
    "name =  input(\"What is the student's name?\")\n",
    "cs = int(input (\"What are the marks in CS?\"))\n",
    "behaviourPoints = int(input (\"How many behaviour points? \"))\n",
    "attendance = int(input (\" What is the attendance of the student (out of 100)\"))\n",
    "punctuality = int(input (\" What is the punctuality of the student? (out of 100)\"))\n",
    "if cs > 50 and  punctuality == 100 and attendance > 95 and behaviour > 10:\n",
    "    print(\"The student is allowed to participate in Bank of America project\")\n",
    "else:\n",
    "    print(\"The student is not allowed to participate in Bank of America project\")\n",
    "if cs > 60 and punctuality == 100 and attendance > 93  and behaviourPoints > 20:\n",
    "    print(\"You are allowed to participate in KING Games project\")\n",
    "else:\n",
    "    print(\"The student is not allowed to participate in KING Games project\")  \n",
    "if  cs > 70 and punctuality == 100 and attendance > 92  and behaviourPoints > 40:\n",
    "    print(\"You are allowed to participate in the Deloitte IoT project\")\n",
    "else:\n",
    "    print(\"The student is not allowed to participate in the Deloitte IoT project\")"
   ]
  },
  {
   "cell_type": "code",
   "execution_count": null,
   "metadata": {},
   "outputs": [],
   "source": []
  },
  {
   "cell_type": "code",
   "execution_count": null,
   "metadata": {},
   "outputs": [],
   "source": []
  }
 ],
 "metadata": {
  "kernelspec": {
   "display_name": "Python 3",
   "language": "python",
   "name": "python3"
  },
  "language_info": {
   "codemirror_mode": {
    "name": "ipython",
    "version": 3
   },
   "file_extension": ".py",
   "mimetype": "text/x-python",
   "name": "python",
   "nbconvert_exporter": "python",
   "pygments_lexer": "ipython3",
   "version": "3.6.7"
  }
 },
 "nbformat": 4,
 "nbformat_minor": 2
}
